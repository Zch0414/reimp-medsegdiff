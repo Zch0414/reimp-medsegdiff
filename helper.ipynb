{
 "cells": [
  {
   "cell_type": "code",
   "execution_count": null,
   "metadata": {},
   "outputs": [],
   "source": [
    "# training\n",
    "%% bash\n",
    "\n",
    "python scripts/segmentation_train.py --data_name ISIC --data_dir /gpfs/accounts/eecs598s007f23_class_root/eecs598s007f23_class/shared_data/zhtianyu/ISIC --out_dir /gpfs/accounts/eecs598s007f23_class_root/eecs598s007f23_class/shared_data/zhtianyu/outputs --image_size 256 --num_channels 128 --class_cond False --num_res_blocks 2 --num_heads 1 --learn_sigma True --use_scale_shift_norm False --attention_resolutions 16 --diffusion_steps 1000 --noise_schedule linear --rescale_learned_sigmas False --rescale_timesteps False --lr 1e-4 --batch_size 2"
   ]
  },
  {
   "cell_type": "code",
   "execution_count": null,
   "metadata": {},
   "outputs": [],
   "source": [
    "# debug\n",
    "%%bash\n",
    "\n",
    "salloc --cpus-per-task=4 --nodes=1 --mem=64g --gres=gpu:1 --time=1:00:00 --account=eecs598s007f23_class --partition=spgpu"
   ]
  },
  {
   "cell_type": "code",
   "execution_count": null,
   "metadata": {},
   "outputs": [],
   "source": [
    "# eval\n",
    "%%bash"
   ]
  }
 ],
 "metadata": {
  "kernelspec": {
   "display_name": "timm",
   "language": "python",
   "name": "timm"
  },
  "language_info": {
   "codemirror_mode": {
    "name": "ipython",
    "version": 3
   },
   "file_extension": ".py",
   "mimetype": "text/x-python",
   "name": "python",
   "nbconvert_exporter": "python",
   "pygments_lexer": "ipython3",
   "version": "3.7.16"
  }
 },
 "nbformat": 4,
 "nbformat_minor": 4
}
